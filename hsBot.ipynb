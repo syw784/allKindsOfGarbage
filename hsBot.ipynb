{
 "cells": [
  {
   "cell_type": "code",
   "execution_count": 154,
   "metadata": {
    "scrolled": true
   },
   "outputs": [],
   "source": [
    "from hearthstone.enums import BlockType, GameTag, Zone, CardType, Step\n",
    "from hslog.parser import LogParser\n",
    "from hslog.export import EntityTreeExporter\n",
    "import os\n",
    "\n",
    "offset = 0\n",
    "parser = LogParser()\n",
    "\n",
    "def return_entity(entities, tag):\n",
    "    for i in entities:\n",
    "        if tag in i.tags.keys():\n",
    "            return i.tags[tag]\n",
    "    return None\n",
    "\n",
    "def check_entity(entities, tag, key):\n",
    "    return return_entity(entities, tag) == key\n",
    "\n",
    "def check_game_final(game):\n",
    "    return check_entity(game.entities, GameTag.NEXT_STEP, Step.FINAL_GAMEOVER)\n",
    "    \n",
    "def is_hearthstone_done(power_log_path = r\"D:\\Hearthstone\\Logs\\Power.log\"):\n",
    "    try:        \n",
    "        #new parser because im too stupid to figure out seek\n",
    "        global offset\n",
    "        global parser\n",
    "        f = open(power_log_path)\n",
    "        f.seek(offset, 0)\n",
    "        parser.read(f)\n",
    "        offset = f.tell()\n",
    "        r = check_game_final(EntityTreeExporter(parser.games[-1]).export().game)\n",
    "        return r\n",
    "    except:\n",
    "        #file does not exist! \n",
    "        return False\n",
    "    \n",
    "import win32gui, win32com.client, win32con\n",
    "from pynput.mouse import Button, Controller\n",
    "mouse = Controller()\n",
    "import time, random\n",
    "\n",
    "def call_hearthstone_window_wrapper(func, minimize_after = True):\n",
    "    forground_window = win32gui.GetForegroundWindow()\n",
    "    shell = win32com.client.Dispatch(\"WScript.Shell\")\n",
    "    shell.SendKeys('%')\n",
    "    hs_window = win32gui.FindWindow(None, \"Hearthstone\")\n",
    "    win32gui.SetForegroundWindow(hs_window)\n",
    "    time.sleep(0.1 + random.randrange(5) * 0.05)\n",
    "    \n",
    "    func(hs_window)\n",
    "    #func(hs_window)\n",
    "    if not minimize_after:\n",
    "        return\n",
    "    win32gui.ShowWindow(hs_window, win32con.SW_MINIMIZE)\n",
    "    win32gui.SetForegroundWindow(forground_window)\n",
    "    \n",
    "def start_game(hs_window):\n",
    "    hsx, hsy, hsw, hsh = win32gui.GetWindowRect(hs_window)\n",
    "    a = hsx + int(hsw / 5 * 3.4) + random.randrange(80)\n",
    "    b = hsy + int(hsh / 5 * 3.7) + random.randrange(80)\n",
    "    mouse.position = (a, b)\n",
    "    mouse.click(Button.left)\n",
    "    time.sleep(1)\n",
    "    \n",
    "def click_out_defeat(hs_window):\n",
    "    start_game(hs_window)\n",
    "    time.sleep(2 + random.randrange(10) * 0.1)\n",
    "    mouse.click(Button.left)\n",
    "    time.sleep(0.6)"
   ]
  },
  {
   "cell_type": "code",
   "execution_count": 143,
   "metadata": {},
   "outputs": [
    {
     "name": "stdout",
     "output_type": "stream",
     "text": [
      "False\n",
      "8055771\n"
     ]
    }
   ],
   "source": [
    "print(is_hearthstone_done())\n",
    "print(offset)"
   ]
  },
  {
   "cell_type": "code",
   "execution_count": 134,
   "metadata": {},
   "outputs": [],
   "source": [
    "def main():\n",
    "    call_hearthstone_window_wrapper(start_game)\n",
    "    while True:\n",
    "        time.sleep(5)\n",
    "        if is_hearthstone_done():\n",
    "            call_hearthstone_window_wrapper(click_out_defeat)"
   ]
  },
  {
   "cell_type": "code",
   "execution_count": 148,
   "metadata": {},
   "outputs": [],
   "source": [
    "call_hearthstone_window_wrapper(start_game)"
   ]
  },
  {
   "cell_type": "code",
   "execution_count": 140,
   "metadata": {},
   "outputs": [
    {
     "ename": "KeyboardInterrupt",
     "evalue": "",
     "output_type": "error",
     "traceback": [
      "\u001b[1;31m---------------------------------------------------------------------------\u001b[0m",
      "\u001b[1;31mKeyboardInterrupt\u001b[0m                         Traceback (most recent call last)",
      "\u001b[1;32m<ipython-input-140-80bc4a449a62>\u001b[0m in \u001b[0;36m<module>\u001b[1;34m\u001b[0m\n\u001b[0;32m      1\u001b[0m \u001b[1;32mwhile\u001b[0m \u001b[1;32mTrue\u001b[0m\u001b[1;33m:\u001b[0m\u001b[1;33m\u001b[0m\u001b[1;33m\u001b[0m\u001b[0m\n\u001b[1;32m----> 2\u001b[1;33m     \u001b[0mtime\u001b[0m\u001b[1;33m.\u001b[0m\u001b[0msleep\u001b[0m\u001b[1;33m(\u001b[0m\u001b[1;36m5\u001b[0m\u001b[1;33m)\u001b[0m\u001b[1;33m\u001b[0m\u001b[1;33m\u001b[0m\u001b[0m\n\u001b[0m\u001b[0;32m      3\u001b[0m     \u001b[1;32mif\u001b[0m \u001b[0mis_hearthstone_done\u001b[0m\u001b[1;33m(\u001b[0m\u001b[1;33m)\u001b[0m\u001b[1;33m:\u001b[0m\u001b[1;33m\u001b[0m\u001b[1;33m\u001b[0m\u001b[0m\n\u001b[0;32m      4\u001b[0m         \u001b[0mcall_hearthstone_window_wrapper\u001b[0m\u001b[1;33m(\u001b[0m\u001b[0mclick_out_defeat\u001b[0m\u001b[1;33m)\u001b[0m\u001b[1;33m\u001b[0m\u001b[1;33m\u001b[0m\u001b[0m\n",
      "\u001b[1;31mKeyboardInterrupt\u001b[0m: "
     ]
    }
   ],
   "source": [
    "while True:\n",
    "    time.sleep(5)\n",
    "    if is_hearthstone_done():\n",
    "        call_hearthstone_window_wrapper(click_out_defeat)\n",
    "        time.sleep(120)"
   ]
  },
  {
   "cell_type": "code",
   "execution_count": 150,
   "metadata": {},
   "outputs": [],
   "source": [
    "\n",
    "if is_hearthstone_done():\n",
    "    call_hearthstone_window_wrapper(click_out_defeat)"
   ]
  },
  {
   "cell_type": "code",
   "execution_count": 158,
   "metadata": {},
   "outputs": [],
   "source": [
    "import dxinput\n",
    "def open_pack(loop = 1):\n",
    "    forground_window = win32gui.GetForegroundWindow()\n",
    "    hs_window = win32gui.FindWindow(None, \"Hearthstone\")\n",
    "    if not forground_window == hs_window:\n",
    "        shell = win32com.client.Dispatch(\"WScript.Shell\")\n",
    "        shell.SendKeys('%')\n",
    "        win32gui.SetForegroundWindow(hs_window)\n",
    "        time.sleep(0.1 + random.randrange(5) * 0.05)\n",
    "    for i in range(loop):\n",
    "        dxinput.press('space')\n",
    "        time.sleep(2)\n",
    "        for i in range(5):\n",
    "            dxinput.press('space')\n",
    "            time.sleep(0.2)\n",
    "open_pack(9)"
   ]
  },
  {
   "cell_type": "code",
   "execution_count": null,
   "metadata": {},
   "outputs": [],
   "source": []
  }
 ],
 "metadata": {
  "kernelspec": {
   "display_name": "Python 3",
   "language": "python",
   "name": "python3"
  },
  "language_info": {
   "codemirror_mode": {
    "name": "ipython",
    "version": 3
   },
   "file_extension": ".py",
   "mimetype": "text/x-python",
   "name": "python",
   "nbconvert_exporter": "python",
   "pygments_lexer": "ipython3",
   "version": "3.8.5"
  }
 },
 "nbformat": 4,
 "nbformat_minor": 4
}
