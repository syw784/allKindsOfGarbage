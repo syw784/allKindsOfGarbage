{
 "cells": [
  {
   "cell_type": "code",
   "execution_count": 39,
   "metadata": {},
   "outputs": [],
   "source": [
    "from win32com.client import Dispatch\n",
    "comthing = Dispatch(\"Scripting.FileSystemObject\")\n",
    "\n",
    "def getFileVer(path):\n",
    "    try:\n",
    "        return comthing.GetFileVersion(path)\n",
    "    except:\n",
    "        return ''\n",
    "\n",
    "def getChromeVer(path = r\"C:\\Program Files (x86)\\Google\\Chrome\\Application\\chrome.exe\"):\n",
    "    r = getFileVer(path)\n",
    "    try: \n",
    "        return r[:r.index('.')]\n",
    "    except:\n",
    "        return 0\n",
    "#a = Dispatch()"
   ]
  },
  {
   "cell_type": "code",
   "execution_count": 42,
   "metadata": {},
   "outputs": [],
   "source": [
    "chromeVer = 'path=' + getChromeVer()"
   ]
  },
  {
   "cell_type": "code",
   "execution_count": 74,
   "metadata": {},
   "outputs": [],
   "source": [
    "import urllib\n",
    "from bs4 import BeautifulSoup\n",
    "import os\n",
    "from zipfile import ZipFile\n",
    "\n",
    "def get_soup(url):\n",
    "    return BeautifulSoup(urllib.request.urlopen(url).read(), 'html.parser')\n",
    "\n",
    "def get_chromedriver_dl_ver(url = \"https://chromedriver.chromium.org/downloads\", chromeVer = 'path={}', chromePath = r\"C:\\Program Files (x86)\\Google\\Chrome\\Application\\chrome.exe\"):\n",
    "    pp = get_soup(url)\n",
    "    chromeVer = chromeVer.format(getChromeVer(chromePath))\n",
    "    for i in pp.find_all('a'):\n",
    "        j = i.get('href')\n",
    "        try:\n",
    "            return j[j.index(chromeVer) + 5 : len(j) - 1]\n",
    "        except:\n",
    "            'k'\n",
    "            \n",
    "def download_chrome_driver(version, url = r'https://chromedriver.storage.googleapis.com/{}/{}.zip', os = 'chromedriver_win32', filename = 'chromedriver.zip'):\n",
    "    url = url.format(version, os)\n",
    "    print(version)\n",
    "    urllib.request.urlretrieve(url = url, filename = filename)\n",
    "    return filename\n",
    "\n",
    "def download_chromedriver():\n",
    "    ZipFile(download_chrome_driver(get_chromedriver_dl_ver()), 'r').extractall()\n"
   ]
  },
  {
   "cell_type": "code",
   "execution_count": 61,
   "metadata": {},
   "outputs": [
    {
     "name": "stdout",
     "output_type": "stream",
     "text": [
      "86.0.4240.22\n"
     ]
    }
   ],
   "source": [
    "pp = get_chromedriver_dl_ver()\n",
    "print(pp)"
   ]
  },
  {
   "cell_type": "code",
   "execution_count": 81,
   "metadata": {},
   "outputs": [],
   "source": [
    "def download_chrome_driver(version, url = r'https://chromedriver.storage.googleapis.com/{}/{}.zip', os = 'chromedriver_win32', filename = 'chromedriver.zip'):\n",
    "    url = url.format(version, os)\n",
    "    print(version)\n",
    "    urllib.request.urlretrieve(url = url, filename = filename)\n",
    "    return filename\n",
    "\n",
    "def download_chromedriver():\n",
    "    ZipFile(download_chrome_driver(get_chromedriver_dl_ver()), 'r').extractall()\n"
   ]
  },
  {
   "cell_type": "code",
   "execution_count": 73,
   "metadata": {},
   "outputs": [],
   "source": [
    "os.getcwd()\n",
    "download_chrome_driver(get_chromedriver_dl_ver())"
   ]
  },
  {
   "cell_type": "code",
   "execution_count": 79,
   "metadata": {},
   "outputs": [],
   "source": [
    "ZipFile('chromedriver.zip', 'r').extractall()"
   ]
  },
  {
   "cell_type": "code",
   "execution_count": 82,
   "metadata": {},
   "outputs": [
    {
     "name": "stdout",
     "output_type": "stream",
     "text": [
      "86.0.4240.22\n"
     ]
    }
   ],
   "source": [
    "download_chromedriver()"
   ]
  },
  {
   "cell_type": "code",
   "execution_count": 1,
   "metadata": {},
   "outputs": [
    {
     "name": "stdout",
     "output_type": "stream",
     "text": [
      "H:\\Temp\\tempo\n"
     ]
    }
   ],
   "source": [
    "import os, subprocess\n",
    "\n",
    "def split(name, dot = '.'):\n",
    "    a = name.rfind(dot)\n",
    "    if a > 0:\n",
    "        return [name[:a], name[a:]]\n",
    "\n",
    "def ffmpeg(name, ss = None, to = None):\n",
    "    name_ext = split(name)\n",
    "    a = 'ffmpeg -i \"in{}\"{}-c:v copy -c:a copy \"out{}\"'#ext, options, ext\n",
    "    options = ' '\n",
    "    if ss:\n",
    "        options += '-ss {} '.format(ss)\n",
    "    if to:\n",
    "        options += '-to {} '.format(to)\n",
    "    os.rename(name, 'in{}'.format(name_ext[1]))\n",
    "    if subprocess.call(a.format(name_ext[1], options, name_ext[1])) == 0:\n",
    "        os.rename('out{}'.format(name_ext[1]), name_ext[0] + '_trim' + name_ext[1])\n",
    "        print('success')\n",
    "    else:\n",
    "        print('failed, check command')\n",
    "        print(a.format(name_ext[1], options, name_ext[1]))\n",
    "    #os.rename('in{}'.format(name_ext[1]), name)\n",
    "    os.remove('in{}'.format(name_ext[1]))\n",
    "\n",
    "print(os.getcwd())"
   ]
  },
  {
   "cell_type": "code",
   "execution_count": 4,
   "metadata": {},
   "outputs": [
    {
     "name": "stdout",
     "output_type": "stream",
     "text": [
      "success\n"
     ]
    }
   ],
   "source": [
    "ffmpeg(name = 'VOL3.mp4', to = '01:22:50')#, to = '00:21:45')#'01:33:38')"
   ]
  },
  {
   "cell_type": "code",
   "execution_count": 5,
   "metadata": {},
   "outputs": [
    {
     "data": {
      "text/plain": [
       "3221225786"
      ]
     },
     "execution_count": 5,
     "metadata": {},
     "output_type": "execute_result"
    }
   ],
   "source": [
    "#C:\\Users\\devilG\\dl.exe %1 \"-o \\\"E:/temp/%(title)s.%(ext)s\\\" --restrict-filenames\"\n",
    "path = 'H:/temp/'\n",
    "url = 'https://www.youtube.com/'\n",
    "subprocess.call('dl {} -o \"{}%(title)s.%(ext)s\" --restrict-filenames'.format(url, path))"
   ]
  },
  {
   "cell_type": "code",
   "execution_count": null,
   "metadata": {},
   "outputs": [],
   "source": []
  }
 ],
 "metadata": {
  "kernelspec": {
   "display_name": "Python 3",
   "language": "python",
   "name": "python3"
  },
  "language_info": {
   "codemirror_mode": {
    "name": "ipython",
    "version": 3
   },
   "file_extension": ".py",
   "mimetype": "text/x-python",
   "name": "python",
   "nbconvert_exporter": "python",
   "pygments_lexer": "ipython3",
   "version": "3.8.5"
  }
 },
 "nbformat": 4,
 "nbformat_minor": 4
}
